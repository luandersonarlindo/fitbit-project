{
 "cells": [
  {
   "cell_type": "code",
   "execution_count": 3,
   "id": "5644376f",
   "metadata": {
    "id": "5644376f"
   },
   "outputs": [],
   "source": [
    "import pandas as pd"
   ]
  },
  {
   "cell_type": "code",
   "execution_count": 4,
   "id": "634091e9",
   "metadata": {
    "colab": {
     "base_uri": "https://localhost:8080/",
     "height": 345
    },
    "id": "634091e9",
    "outputId": "4ff8d0e2-be42-4c98-b3f8-171864239403"
   },
   "outputs": [
    {
     "data": {
      "text/html": [
       "<div>\n",
       "<style scoped>\n",
       "    .dataframe tbody tr th:only-of-type {\n",
       "        vertical-align: middle;\n",
       "    }\n",
       "\n",
       "    .dataframe tbody tr th {\n",
       "        vertical-align: top;\n",
       "    }\n",
       "\n",
       "    .dataframe thead th {\n",
       "        text-align: right;\n",
       "    }\n",
       "</style>\n",
       "<table border=\"1\" class=\"dataframe\">\n",
       "  <thead>\n",
       "    <tr style=\"text-align: right;\">\n",
       "      <th></th>\n",
       "      <th>Id</th>\n",
       "      <th>ActivityDate</th>\n",
       "      <th>TotalSteps</th>\n",
       "      <th>TotalDistance</th>\n",
       "      <th>TrackerDistance</th>\n",
       "      <th>LoggedActivitiesDistance</th>\n",
       "      <th>VeryActiveDistance</th>\n",
       "      <th>ModeratelyActiveDistance</th>\n",
       "      <th>LightActiveDistance</th>\n",
       "      <th>SedentaryActiveDistance</th>\n",
       "      <th>VeryActiveMinutes</th>\n",
       "      <th>FairlyActiveMinutes</th>\n",
       "      <th>LightlyActiveMinutes</th>\n",
       "      <th>SedentaryMinutes</th>\n",
       "      <th>Calories</th>\n",
       "    </tr>\n",
       "  </thead>\n",
       "  <tbody>\n",
       "    <tr>\n",
       "      <th>0</th>\n",
       "      <td>1503960366</td>\n",
       "      <td>4/12/2016</td>\n",
       "      <td>13162</td>\n",
       "      <td>8.50</td>\n",
       "      <td>8.50</td>\n",
       "      <td>0.0</td>\n",
       "      <td>1.88</td>\n",
       "      <td>0.55</td>\n",
       "      <td>6.06</td>\n",
       "      <td>0.0</td>\n",
       "      <td>25</td>\n",
       "      <td>13</td>\n",
       "      <td>328</td>\n",
       "      <td>728</td>\n",
       "      <td>1985</td>\n",
       "    </tr>\n",
       "    <tr>\n",
       "      <th>1</th>\n",
       "      <td>1503960366</td>\n",
       "      <td>4/13/2016</td>\n",
       "      <td>10735</td>\n",
       "      <td>6.97</td>\n",
       "      <td>6.97</td>\n",
       "      <td>0.0</td>\n",
       "      <td>1.57</td>\n",
       "      <td>0.69</td>\n",
       "      <td>4.71</td>\n",
       "      <td>0.0</td>\n",
       "      <td>21</td>\n",
       "      <td>19</td>\n",
       "      <td>217</td>\n",
       "      <td>776</td>\n",
       "      <td>1797</td>\n",
       "    </tr>\n",
       "    <tr>\n",
       "      <th>2</th>\n",
       "      <td>1503960366</td>\n",
       "      <td>4/14/2016</td>\n",
       "      <td>10460</td>\n",
       "      <td>6.74</td>\n",
       "      <td>6.74</td>\n",
       "      <td>0.0</td>\n",
       "      <td>2.44</td>\n",
       "      <td>0.40</td>\n",
       "      <td>3.91</td>\n",
       "      <td>0.0</td>\n",
       "      <td>30</td>\n",
       "      <td>11</td>\n",
       "      <td>181</td>\n",
       "      <td>1218</td>\n",
       "      <td>1776</td>\n",
       "    </tr>\n",
       "    <tr>\n",
       "      <th>3</th>\n",
       "      <td>1503960366</td>\n",
       "      <td>4/15/2016</td>\n",
       "      <td>9762</td>\n",
       "      <td>6.28</td>\n",
       "      <td>6.28</td>\n",
       "      <td>0.0</td>\n",
       "      <td>2.14</td>\n",
       "      <td>1.26</td>\n",
       "      <td>2.83</td>\n",
       "      <td>0.0</td>\n",
       "      <td>29</td>\n",
       "      <td>34</td>\n",
       "      <td>209</td>\n",
       "      <td>726</td>\n",
       "      <td>1745</td>\n",
       "    </tr>\n",
       "    <tr>\n",
       "      <th>4</th>\n",
       "      <td>1503960366</td>\n",
       "      <td>4/16/2016</td>\n",
       "      <td>12669</td>\n",
       "      <td>8.16</td>\n",
       "      <td>8.16</td>\n",
       "      <td>0.0</td>\n",
       "      <td>2.71</td>\n",
       "      <td>0.41</td>\n",
       "      <td>5.04</td>\n",
       "      <td>0.0</td>\n",
       "      <td>36</td>\n",
       "      <td>10</td>\n",
       "      <td>221</td>\n",
       "      <td>773</td>\n",
       "      <td>1863</td>\n",
       "    </tr>\n",
       "  </tbody>\n",
       "</table>\n",
       "</div>"
      ],
      "text/plain": [
       "           Id ActivityDate  TotalSteps  TotalDistance  TrackerDistance  \\\n",
       "0  1503960366    4/12/2016       13162           8.50             8.50   \n",
       "1  1503960366    4/13/2016       10735           6.97             6.97   \n",
       "2  1503960366    4/14/2016       10460           6.74             6.74   \n",
       "3  1503960366    4/15/2016        9762           6.28             6.28   \n",
       "4  1503960366    4/16/2016       12669           8.16             8.16   \n",
       "\n",
       "   LoggedActivitiesDistance  VeryActiveDistance  ModeratelyActiveDistance  \\\n",
       "0                       0.0                1.88                      0.55   \n",
       "1                       0.0                1.57                      0.69   \n",
       "2                       0.0                2.44                      0.40   \n",
       "3                       0.0                2.14                      1.26   \n",
       "4                       0.0                2.71                      0.41   \n",
       "\n",
       "   LightActiveDistance  SedentaryActiveDistance  VeryActiveMinutes  \\\n",
       "0                 6.06                      0.0                 25   \n",
       "1                 4.71                      0.0                 21   \n",
       "2                 3.91                      0.0                 30   \n",
       "3                 2.83                      0.0                 29   \n",
       "4                 5.04                      0.0                 36   \n",
       "\n",
       "   FairlyActiveMinutes  LightlyActiveMinutes  SedentaryMinutes  Calories  \n",
       "0                   13                   328               728      1985  \n",
       "1                   19                   217               776      1797  \n",
       "2                   11                   181              1218      1776  \n",
       "3                   34                   209               726      1745  \n",
       "4                   10                   221               773      1863  "
      ]
     },
     "execution_count": 4,
     "metadata": {},
     "output_type": "execute_result"
    }
   ],
   "source": [
    "df = pd.read_csv('dailyActivity_merged.csv')\n",
    "df.head()"
   ]
  },
  {
   "cell_type": "markdown",
   "id": "e8e778d5",
   "metadata": {
    "id": "e8e778d5"
   },
   "source": [
    "# Análise dos Dados de Atividade Física - FitBit\n",
    "\n",
    "## Quais características mais influenciam as calorias gastas?\n",
    "\n",
    "Para responder essa pergunta, primeiro vou ter que criar um modelo.\n",
    "\n",
    "### Regressão Linear\n",
    "A gente usa, geralmente, para prever uma coluna de número.\n",
    "\n",
    "### No caso do FitBit, qual a minha variável alvo?\n",
    "\n",
    "As calorias gastas, que é uma variável numérica.\n",
    "Se é uma variável numérica, o modelo de Regressão Linear responde bem.\n",
    "\n",
    "Vamos analisar como as diferentes distâncias percorridas em vários níveis de atividade \n",
    "(moderada, leve e sedentária) influenciam o gasto calórico diário."
   ]
  },
  {
   "cell_type": "code",
   "execution_count": 5,
   "id": "52d048de",
   "metadata": {
    "colab": {
     "base_uri": "https://localhost:8080/",
     "height": 345
    },
    "id": "52d048de",
    "outputId": "a469769c-b756-4d5b-a880-4c351bbd7684"
   },
   "outputs": [
    {
     "data": {
      "text/html": [
       "<div>\n",
       "<style scoped>\n",
       "    .dataframe tbody tr th:only-of-type {\n",
       "        vertical-align: middle;\n",
       "    }\n",
       "\n",
       "    .dataframe tbody tr th {\n",
       "        vertical-align: top;\n",
       "    }\n",
       "\n",
       "    .dataframe thead th {\n",
       "        text-align: right;\n",
       "    }\n",
       "</style>\n",
       "<table border=\"1\" class=\"dataframe\">\n",
       "  <thead>\n",
       "    <tr style=\"text-align: right;\">\n",
       "      <th></th>\n",
       "      <th>Id</th>\n",
       "      <th>ActivityDate</th>\n",
       "      <th>TotalSteps</th>\n",
       "      <th>TotalDistance</th>\n",
       "      <th>TrackerDistance</th>\n",
       "      <th>LoggedActivitiesDistance</th>\n",
       "      <th>VeryActiveDistance</th>\n",
       "      <th>ModeratelyActiveDistance</th>\n",
       "      <th>LightActiveDistance</th>\n",
       "      <th>SedentaryActiveDistance</th>\n",
       "      <th>VeryActiveMinutes</th>\n",
       "      <th>FairlyActiveMinutes</th>\n",
       "      <th>LightlyActiveMinutes</th>\n",
       "      <th>SedentaryMinutes</th>\n",
       "      <th>Calories</th>\n",
       "    </tr>\n",
       "  </thead>\n",
       "  <tbody>\n",
       "    <tr>\n",
       "      <th>0</th>\n",
       "      <td>1503960366</td>\n",
       "      <td>4/12/2016</td>\n",
       "      <td>13162</td>\n",
       "      <td>8.50</td>\n",
       "      <td>8.50</td>\n",
       "      <td>0.0</td>\n",
       "      <td>1.88</td>\n",
       "      <td>0.55</td>\n",
       "      <td>6.06</td>\n",
       "      <td>0.0</td>\n",
       "      <td>25</td>\n",
       "      <td>13</td>\n",
       "      <td>328</td>\n",
       "      <td>728</td>\n",
       "      <td>1985</td>\n",
       "    </tr>\n",
       "    <tr>\n",
       "      <th>1</th>\n",
       "      <td>1503960366</td>\n",
       "      <td>4/13/2016</td>\n",
       "      <td>10735</td>\n",
       "      <td>6.97</td>\n",
       "      <td>6.97</td>\n",
       "      <td>0.0</td>\n",
       "      <td>1.57</td>\n",
       "      <td>0.69</td>\n",
       "      <td>4.71</td>\n",
       "      <td>0.0</td>\n",
       "      <td>21</td>\n",
       "      <td>19</td>\n",
       "      <td>217</td>\n",
       "      <td>776</td>\n",
       "      <td>1797</td>\n",
       "    </tr>\n",
       "    <tr>\n",
       "      <th>2</th>\n",
       "      <td>1503960366</td>\n",
       "      <td>4/14/2016</td>\n",
       "      <td>10460</td>\n",
       "      <td>6.74</td>\n",
       "      <td>6.74</td>\n",
       "      <td>0.0</td>\n",
       "      <td>2.44</td>\n",
       "      <td>0.40</td>\n",
       "      <td>3.91</td>\n",
       "      <td>0.0</td>\n",
       "      <td>30</td>\n",
       "      <td>11</td>\n",
       "      <td>181</td>\n",
       "      <td>1218</td>\n",
       "      <td>1776</td>\n",
       "    </tr>\n",
       "    <tr>\n",
       "      <th>3</th>\n",
       "      <td>1503960366</td>\n",
       "      <td>4/15/2016</td>\n",
       "      <td>9762</td>\n",
       "      <td>6.28</td>\n",
       "      <td>6.28</td>\n",
       "      <td>0.0</td>\n",
       "      <td>2.14</td>\n",
       "      <td>1.26</td>\n",
       "      <td>2.83</td>\n",
       "      <td>0.0</td>\n",
       "      <td>29</td>\n",
       "      <td>34</td>\n",
       "      <td>209</td>\n",
       "      <td>726</td>\n",
       "      <td>1745</td>\n",
       "    </tr>\n",
       "    <tr>\n",
       "      <th>4</th>\n",
       "      <td>1503960366</td>\n",
       "      <td>4/16/2016</td>\n",
       "      <td>12669</td>\n",
       "      <td>8.16</td>\n",
       "      <td>8.16</td>\n",
       "      <td>0.0</td>\n",
       "      <td>2.71</td>\n",
       "      <td>0.41</td>\n",
       "      <td>5.04</td>\n",
       "      <td>0.0</td>\n",
       "      <td>36</td>\n",
       "      <td>10</td>\n",
       "      <td>221</td>\n",
       "      <td>773</td>\n",
       "      <td>1863</td>\n",
       "    </tr>\n",
       "  </tbody>\n",
       "</table>\n",
       "</div>"
      ],
      "text/plain": [
       "           Id ActivityDate  TotalSteps  TotalDistance  TrackerDistance  \\\n",
       "0  1503960366    4/12/2016       13162           8.50             8.50   \n",
       "1  1503960366    4/13/2016       10735           6.97             6.97   \n",
       "2  1503960366    4/14/2016       10460           6.74             6.74   \n",
       "3  1503960366    4/15/2016        9762           6.28             6.28   \n",
       "4  1503960366    4/16/2016       12669           8.16             8.16   \n",
       "\n",
       "   LoggedActivitiesDistance  VeryActiveDistance  ModeratelyActiveDistance  \\\n",
       "0                       0.0                1.88                      0.55   \n",
       "1                       0.0                1.57                      0.69   \n",
       "2                       0.0                2.44                      0.40   \n",
       "3                       0.0                2.14                      1.26   \n",
       "4                       0.0                2.71                      0.41   \n",
       "\n",
       "   LightActiveDistance  SedentaryActiveDistance  VeryActiveMinutes  \\\n",
       "0                 6.06                      0.0                 25   \n",
       "1                 4.71                      0.0                 21   \n",
       "2                 3.91                      0.0                 30   \n",
       "3                 2.83                      0.0                 29   \n",
       "4                 5.04                      0.0                 36   \n",
       "\n",
       "   FairlyActiveMinutes  LightlyActiveMinutes  SedentaryMinutes  Calories  \n",
       "0                   13                   328               728      1985  \n",
       "1                   19                   217               776      1797  \n",
       "2                   11                   181              1218      1776  \n",
       "3                   34                   209               726      1745  \n",
       "4                   10                   221               773      1863  "
      ]
     },
     "execution_count": 5,
     "metadata": {},
     "output_type": "execute_result"
    }
   ],
   "source": [
    "df.head()"
   ]
  },
  {
   "cell_type": "markdown",
   "id": "27f13aa7",
   "metadata": {
    "id": "27f13aa7"
   },
   "source": [
    "# Identificar variáveis independentes (X) e variável dependente (y)\n",
    "\n",
    "X = Distâncias percorridas (ModeratelyActiveDistance, LightActiveDistance, SedentaryActiveDistance)\n",
    "y = Calorias gastas"
   ]
  },
  {
   "cell_type": "markdown",
   "id": "61b16ab7",
   "metadata": {
    "id": "61b16ab7"
   },
   "source": [
    "# Preparação dos Dados\n",
    "\n",
    "Precisamos converter a coluna de data para o formato datetime e verificar se existem outros pré-processamentos necessários antes de continuar."
   ]
  },
  {
   "cell_type": "code",
   "execution_count": 7,
   "id": "4941662c",
   "metadata": {
    "id": "4941662c"
   },
   "outputs": [],
   "source": [
    "df = df[[\"ActivityDate\", \"ModeratelyActiveDistance\", \"LightActiveDistance\", \"SedentaryActiveDistance\"]]"
   ]
  },
  {
   "cell_type": "code",
   "execution_count": 11,
   "id": "77410935",
   "metadata": {
    "colab": {
     "base_uri": "https://localhost:8080/",
     "height": 206
    },
    "id": "77410935",
    "outputId": "fe21d45a-3f12-472a-9169-55f36c2611a5"
   },
   "outputs": [
    {
     "data": {
      "text/html": [
       "<div>\n",
       "<style scoped>\n",
       "    .dataframe tbody tr th:only-of-type {\n",
       "        vertical-align: middle;\n",
       "    }\n",
       "\n",
       "    .dataframe tbody tr th {\n",
       "        vertical-align: top;\n",
       "    }\n",
       "\n",
       "    .dataframe thead th {\n",
       "        text-align: right;\n",
       "    }\n",
       "</style>\n",
       "<table border=\"1\" class=\"dataframe\">\n",
       "  <thead>\n",
       "    <tr style=\"text-align: right;\">\n",
       "      <th></th>\n",
       "      <th>ActivityDate</th>\n",
       "      <th>ModeratelyActiveDistance</th>\n",
       "      <th>LightActiveDistance</th>\n",
       "      <th>SedentaryActiveDistance</th>\n",
       "    </tr>\n",
       "  </thead>\n",
       "  <tbody>\n",
       "    <tr>\n",
       "      <th>0</th>\n",
       "      <td>4/12/2016</td>\n",
       "      <td>0.55</td>\n",
       "      <td>6.06</td>\n",
       "      <td>0.0</td>\n",
       "    </tr>\n",
       "    <tr>\n",
       "      <th>1</th>\n",
       "      <td>4/13/2016</td>\n",
       "      <td>0.69</td>\n",
       "      <td>4.71</td>\n",
       "      <td>0.0</td>\n",
       "    </tr>\n",
       "    <tr>\n",
       "      <th>2</th>\n",
       "      <td>4/14/2016</td>\n",
       "      <td>0.40</td>\n",
       "      <td>3.91</td>\n",
       "      <td>0.0</td>\n",
       "    </tr>\n",
       "    <tr>\n",
       "      <th>3</th>\n",
       "      <td>4/15/2016</td>\n",
       "      <td>1.26</td>\n",
       "      <td>2.83</td>\n",
       "      <td>0.0</td>\n",
       "    </tr>\n",
       "    <tr>\n",
       "      <th>4</th>\n",
       "      <td>4/16/2016</td>\n",
       "      <td>0.41</td>\n",
       "      <td>5.04</td>\n",
       "      <td>0.0</td>\n",
       "    </tr>\n",
       "  </tbody>\n",
       "</table>\n",
       "</div>"
      ],
      "text/plain": [
       "  ActivityDate  ModeratelyActiveDistance  LightActiveDistance  \\\n",
       "0    4/12/2016                      0.55                 6.06   \n",
       "1    4/13/2016                      0.69                 4.71   \n",
       "2    4/14/2016                      0.40                 3.91   \n",
       "3    4/15/2016                      1.26                 2.83   \n",
       "4    4/16/2016                      0.41                 5.04   \n",
       "\n",
       "   SedentaryActiveDistance  \n",
       "0                      0.0  \n",
       "1                      0.0  \n",
       "2                      0.0  \n",
       "3                      0.0  \n",
       "4                      0.0  "
      ]
     },
     "execution_count": 11,
     "metadata": {},
     "output_type": "execute_result"
    }
   ],
   "source": [
    "df.head()"
   ]
  },
  {
   "cell_type": "code",
   "execution_count": null,
   "id": "59b8d7ba",
   "metadata": {},
   "outputs": [
    {
     "name": "stderr",
     "output_type": "stream",
     "text": [
      "C:\\Users\\luana\\AppData\\Local\\Temp\\ipykernel_4820\\3438531016.py:2: SettingWithCopyWarning: \n",
      "A value is trying to be set on a copy of a slice from a DataFrame.\n",
      "Try using .loc[row_indexer,col_indexer] = value instead\n",
      "\n",
      "See the caveats in the documentation: https://pandas.pydata.org/pandas-docs/stable/user_guide/indexing.html#returning-a-view-versus-a-copy\n",
      "  df['ActivityDate'] = pd.to_datetime(df['ActivityDate'])\n"
     ]
    },
    {
     "data": {
      "text/html": [
       "<div>\n",
       "<style scoped>\n",
       "    .dataframe tbody tr th:only-of-type {\n",
       "        vertical-align: middle;\n",
       "    }\n",
       "\n",
       "    .dataframe tbody tr th {\n",
       "        vertical-align: top;\n",
       "    }\n",
       "\n",
       "    .dataframe thead th {\n",
       "        text-align: right;\n",
       "    }\n",
       "</style>\n",
       "<table border=\"1\" class=\"dataframe\">\n",
       "  <thead>\n",
       "    <tr style=\"text-align: right;\">\n",
       "      <th></th>\n",
       "      <th>ActivityDate</th>\n",
       "      <th>ModeratelyActiveDistance</th>\n",
       "      <th>LightActiveDistance</th>\n",
       "      <th>SedentaryActiveDistance</th>\n",
       "    </tr>\n",
       "  </thead>\n",
       "  <tbody>\n",
       "    <tr>\n",
       "      <th>0</th>\n",
       "      <td>2016-04-12</td>\n",
       "      <td>0.55</td>\n",
       "      <td>6.06</td>\n",
       "      <td>0.0</td>\n",
       "    </tr>\n",
       "    <tr>\n",
       "      <th>1</th>\n",
       "      <td>2016-04-13</td>\n",
       "      <td>0.69</td>\n",
       "      <td>4.71</td>\n",
       "      <td>0.0</td>\n",
       "    </tr>\n",
       "    <tr>\n",
       "      <th>2</th>\n",
       "      <td>2016-04-14</td>\n",
       "      <td>0.40</td>\n",
       "      <td>3.91</td>\n",
       "      <td>0.0</td>\n",
       "    </tr>\n",
       "    <tr>\n",
       "      <th>3</th>\n",
       "      <td>2016-04-15</td>\n",
       "      <td>1.26</td>\n",
       "      <td>2.83</td>\n",
       "      <td>0.0</td>\n",
       "    </tr>\n",
       "    <tr>\n",
       "      <th>4</th>\n",
       "      <td>2016-04-16</td>\n",
       "      <td>0.41</td>\n",
       "      <td>5.04</td>\n",
       "      <td>0.0</td>\n",
       "    </tr>\n",
       "  </tbody>\n",
       "</table>\n",
       "</div>"
      ],
      "text/plain": [
       "  ActivityDate  ModeratelyActiveDistance  LightActiveDistance  \\\n",
       "0   2016-04-12                      0.55                 6.06   \n",
       "1   2016-04-13                      0.69                 4.71   \n",
       "2   2016-04-14                      0.40                 3.91   \n",
       "3   2016-04-15                      1.26                 2.83   \n",
       "4   2016-04-16                      0.41                 5.04   \n",
       "\n",
       "   SedentaryActiveDistance  \n",
       "0                      0.0  \n",
       "1                      0.0  \n",
       "2                      0.0  \n",
       "3                      0.0  \n",
       "4                      0.0  "
      ]
     },
     "execution_count": 12,
     "metadata": {},
     "output_type": "execute_result"
    }
   ],
   "source": [
    "# Converter a coluna ActivityDate para datetime\n",
    "df['ActivityDate'] = pd.to_datetime(df['ActivityDate'])\n",
    "df.head()"
   ]
  },
  {
   "cell_type": "code",
   "execution_count": 13,
   "id": "hlnfj9eY2fHv",
   "metadata": {
    "colab": {
     "base_uri": "https://localhost:8080/"
    },
    "id": "hlnfj9eY2fHv",
    "outputId": "82834325-5721-452f-a3bb-94646b7b2e65"
   },
   "outputs": [
    {
     "name": "stdout",
     "output_type": "stream",
     "text": [
      "<class 'pandas.core.frame.DataFrame'>\n",
      "RangeIndex: 940 entries, 0 to 939\n",
      "Data columns (total 4 columns):\n",
      " #   Column                    Non-Null Count  Dtype         \n",
      "---  ------                    --------------  -----         \n",
      " 0   ActivityDate              940 non-null    datetime64[ns]\n",
      " 1   ModeratelyActiveDistance  940 non-null    float64       \n",
      " 2   LightActiveDistance       940 non-null    float64       \n",
      " 3   SedentaryActiveDistance   940 non-null    float64       \n",
      "dtypes: datetime64[ns](1), float64(3)\n",
      "memory usage: 29.5 KB\n"
     ]
    }
   ],
   "source": [
    "# Verificar informações do dataset\n",
    "df.info()"
   ]
  },
  {
   "cell_type": "code",
   "execution_count": 14,
   "id": "2ae2b675",
   "metadata": {
    "colab": {
     "base_uri": "https://localhost:8080/",
     "height": 206
    },
    "id": "2ae2b675",
    "outputId": "a78f2609-7580-412e-fe44-d7a8e5598486"
   },
   "outputs": [
    {
     "name": "stderr",
     "output_type": "stream",
     "text": [
      "C:\\Users\\luana\\AppData\\Local\\Temp\\ipykernel_4820\\1927444121.py:3: SettingWithCopyWarning: \n",
      "A value is trying to be set on a copy of a slice from a DataFrame.\n",
      "Try using .loc[row_indexer,col_indexer] = value instead\n",
      "\n",
      "See the caveats in the documentation: https://pandas.pydata.org/pandas-docs/stable/user_guide/indexing.html#returning-a-view-versus-a-copy\n",
      "  df['Calories'] = df_completo['Calories']\n"
     ]
    },
    {
     "data": {
      "text/html": [
       "<div>\n",
       "<style scoped>\n",
       "    .dataframe tbody tr th:only-of-type {\n",
       "        vertical-align: middle;\n",
       "    }\n",
       "\n",
       "    .dataframe tbody tr th {\n",
       "        vertical-align: top;\n",
       "    }\n",
       "\n",
       "    .dataframe thead th {\n",
       "        text-align: right;\n",
       "    }\n",
       "</style>\n",
       "<table border=\"1\" class=\"dataframe\">\n",
       "  <thead>\n",
       "    <tr style=\"text-align: right;\">\n",
       "      <th></th>\n",
       "      <th>ActivityDate</th>\n",
       "      <th>ModeratelyActiveDistance</th>\n",
       "      <th>LightActiveDistance</th>\n",
       "      <th>SedentaryActiveDistance</th>\n",
       "      <th>Calories</th>\n",
       "    </tr>\n",
       "  </thead>\n",
       "  <tbody>\n",
       "    <tr>\n",
       "      <th>0</th>\n",
       "      <td>2016-04-12</td>\n",
       "      <td>0.55</td>\n",
       "      <td>6.06</td>\n",
       "      <td>0.0</td>\n",
       "      <td>1985</td>\n",
       "    </tr>\n",
       "    <tr>\n",
       "      <th>1</th>\n",
       "      <td>2016-04-13</td>\n",
       "      <td>0.69</td>\n",
       "      <td>4.71</td>\n",
       "      <td>0.0</td>\n",
       "      <td>1797</td>\n",
       "    </tr>\n",
       "    <tr>\n",
       "      <th>2</th>\n",
       "      <td>2016-04-14</td>\n",
       "      <td>0.40</td>\n",
       "      <td>3.91</td>\n",
       "      <td>0.0</td>\n",
       "      <td>1776</td>\n",
       "    </tr>\n",
       "    <tr>\n",
       "      <th>3</th>\n",
       "      <td>2016-04-15</td>\n",
       "      <td>1.26</td>\n",
       "      <td>2.83</td>\n",
       "      <td>0.0</td>\n",
       "      <td>1745</td>\n",
       "    </tr>\n",
       "    <tr>\n",
       "      <th>4</th>\n",
       "      <td>2016-04-16</td>\n",
       "      <td>0.41</td>\n",
       "      <td>5.04</td>\n",
       "      <td>0.0</td>\n",
       "      <td>1863</td>\n",
       "    </tr>\n",
       "  </tbody>\n",
       "</table>\n",
       "</div>"
      ],
      "text/plain": [
       "  ActivityDate  ModeratelyActiveDistance  LightActiveDistance  \\\n",
       "0   2016-04-12                      0.55                 6.06   \n",
       "1   2016-04-13                      0.69                 4.71   \n",
       "2   2016-04-14                      0.40                 3.91   \n",
       "3   2016-04-15                      1.26                 2.83   \n",
       "4   2016-04-16                      0.41                 5.04   \n",
       "\n",
       "   SedentaryActiveDistance  Calories  \n",
       "0                      0.0      1985  \n",
       "1                      0.0      1797  \n",
       "2                      0.0      1776  \n",
       "3                      0.0      1745  \n",
       "4                      0.0      1863  "
      ]
     },
     "execution_count": 14,
     "metadata": {},
     "output_type": "execute_result"
    }
   ],
   "source": [
    "# Vamos readicionar a coluna de Calories que será nossa variável alvo (y)\n",
    "df_completo = pd.read_csv('dailyActivity_merged.csv')\n",
    "df['Calories'] = df_completo['Calories']\n",
    "df.head()"
   ]
  },
  {
   "cell_type": "code",
   "execution_count": 20,
   "id": "5e7d0267",
   "metadata": {
    "colab": {
     "base_uri": "https://localhost:8080/"
    },
    "id": "5e7d0267",
    "outputId": "31daaf48-b270-461e-ac54-fe2d29d187ef"
   },
   "outputs": [
    {
     "name": "stdout",
     "output_type": "stream",
     "text": [
      "['ModeratelyActiveDistance', 'LightActiveDistance', 'SedentaryActiveDistance']\n"
     ]
    }
   ],
   "source": [
    "# Definir as features para o modelo de regressão linear\n",
    "features = ['ModeratelyActiveDistance', 'LightActiveDistance', 'SedentaryActiveDistance']\n",
    "print(features)"
   ]
  },
  {
   "cell_type": "markdown",
   "id": "fb5547c4",
   "metadata": {
    "id": "fb5547c4"
   },
   "source": [
    "# Feature Engineering\n",
    "\n",
    "Neste exemplo simples, estamos usando as distâncias percorridas em diferentes níveis de intensidade como features. Em uma análise mais completa, poderíamos considerar:\n",
    "\n",
    "1. Dia da semana (pessoas podem ser mais ativas nos fins de semana)\n",
    "2. Total de minutos ativos\n",
    "3. Proporção entre atividade e sedentarismo\n",
    "4. Interações entre variáveis"
   ]
  },
  {
   "cell_type": "code",
   "execution_count": 21,
   "id": "c1593586",
   "metadata": {
    "colab": {
     "base_uri": "https://localhost:8080/",
     "height": 206
    },
    "id": "c1593586",
    "outputId": "3b10270e-ad16-4dde-91a1-b66b849780c9"
   },
   "outputs": [
    {
     "data": {
      "text/html": [
       "<div>\n",
       "<style scoped>\n",
       "    .dataframe tbody tr th:only-of-type {\n",
       "        vertical-align: middle;\n",
       "    }\n",
       "\n",
       "    .dataframe tbody tr th {\n",
       "        vertical-align: top;\n",
       "    }\n",
       "\n",
       "    .dataframe thead th {\n",
       "        text-align: right;\n",
       "    }\n",
       "</style>\n",
       "<table border=\"1\" class=\"dataframe\">\n",
       "  <thead>\n",
       "    <tr style=\"text-align: right;\">\n",
       "      <th></th>\n",
       "      <th>ModeratelyActiveDistance</th>\n",
       "      <th>LightActiveDistance</th>\n",
       "      <th>SedentaryActiveDistance</th>\n",
       "    </tr>\n",
       "  </thead>\n",
       "  <tbody>\n",
       "    <tr>\n",
       "      <th>0</th>\n",
       "      <td>0.55</td>\n",
       "      <td>6.06</td>\n",
       "      <td>0.0</td>\n",
       "    </tr>\n",
       "    <tr>\n",
       "      <th>1</th>\n",
       "      <td>0.69</td>\n",
       "      <td>4.71</td>\n",
       "      <td>0.0</td>\n",
       "    </tr>\n",
       "    <tr>\n",
       "      <th>2</th>\n",
       "      <td>0.40</td>\n",
       "      <td>3.91</td>\n",
       "      <td>0.0</td>\n",
       "    </tr>\n",
       "    <tr>\n",
       "      <th>3</th>\n",
       "      <td>1.26</td>\n",
       "      <td>2.83</td>\n",
       "      <td>0.0</td>\n",
       "    </tr>\n",
       "    <tr>\n",
       "      <th>4</th>\n",
       "      <td>0.41</td>\n",
       "      <td>5.04</td>\n",
       "      <td>0.0</td>\n",
       "    </tr>\n",
       "  </tbody>\n",
       "</table>\n",
       "</div>"
      ],
      "text/plain": [
       "   ModeratelyActiveDistance  LightActiveDistance  SedentaryActiveDistance\n",
       "0                      0.55                 6.06                      0.0\n",
       "1                      0.69                 4.71                      0.0\n",
       "2                      0.40                 3.91                      0.0\n",
       "3                      1.26                 2.83                      0.0\n",
       "4                      0.41                 5.04                      0.0"
      ]
     },
     "execution_count": 21,
     "metadata": {},
     "output_type": "execute_result"
    }
   ],
   "source": [
    "# Definir X (features) para o modelo\n",
    "X = df[features]\n",
    "X.head()"
   ]
  },
  {
   "cell_type": "code",
   "execution_count": 22,
   "id": "1f7b4cb9",
   "metadata": {
    "colab": {
     "base_uri": "https://localhost:8080/",
     "height": 240
    },
    "id": "1f7b4cb9",
    "outputId": "d26e4fce-8533-4e54-dc21-b70225cf4a06"
   },
   "outputs": [
    {
     "data": {
      "text/plain": [
       "0    1985\n",
       "1    1797\n",
       "2    1776\n",
       "3    1745\n",
       "4    1863\n",
       "Name: Calories, dtype: int64"
      ]
     },
     "execution_count": 22,
     "metadata": {},
     "output_type": "execute_result"
    }
   ],
   "source": [
    "# Definir y (target) para o modelo\n",
    "y = df['Calories']\n",
    "y.head()"
   ]
  },
  {
   "cell_type": "markdown",
   "id": "99ba15ab",
   "metadata": {
    "id": "99ba15ab"
   },
   "source": [
    "# importar o modelo"
   ]
  },
  {
   "cell_type": "code",
   "execution_count": 23,
   "id": "b0bcb1c6",
   "metadata": {
    "id": "b0bcb1c6"
   },
   "outputs": [],
   "source": [
    "from sklearn.linear_model import LinearRegression"
   ]
  },
  {
   "cell_type": "markdown",
   "id": "dfd65b45",
   "metadata": {
    "id": "dfd65b45"
   },
   "source": [
    "## Instaciar o modelo\n",
    "Criar uma variavel com o nome do modelo"
   ]
  },
  {
   "cell_type": "code",
   "execution_count": 24,
   "id": "77e06cb4",
   "metadata": {
    "id": "77e06cb4"
   },
   "outputs": [],
   "source": [
    "modelo = LinearRegression()"
   ]
  },
  {
   "cell_type": "markdown",
   "id": "36b2a67f",
   "metadata": {
    "id": "36b2a67f"
   },
   "source": [
    "# Separar o X e y em 4 partes\n",
    "\n",
    "## X_train\n",
    "Base de treino que o modelo vai aprender\n",
    "\n",
    "## X_test\n",
    "Base de teste que o modelo vai ver se errou ou não\n",
    "\n",
    "## y_train\n",
    "Base de treino que o modelo vai aprender\n",
    "\n",
    "## y_test\n",
    "Base de teste que o modelo vai ver se errou ou não"
   ]
  },
  {
   "cell_type": "code",
   "execution_count": 25,
   "id": "7fe41703",
   "metadata": {
    "id": "7fe41703"
   },
   "outputs": [],
   "source": [
    "from sklearn.model_selection import train_test_split"
   ]
  },
  {
   "cell_type": "code",
   "execution_count": 26,
   "id": "f8847f1c",
   "metadata": {
    "id": "f8847f1c"
   },
   "outputs": [],
   "source": [
    "# Separação dos dados em conjuntos de treino e teste\n",
    "X_train, X_test, y_train, y_test = train_test_split(X, y, test_size=0.25, random_state=42)"
   ]
  },
  {
   "cell_type": "code",
   "execution_count": 27,
   "id": "f793cb43",
   "metadata": {
    "colab": {
     "base_uri": "https://localhost:8080/"
    },
    "id": "f793cb43",
    "outputId": "4c7e8ef8-bd41-4630-d3fa-340862ec4b9e"
   },
   "outputs": [
    {
     "data": {
      "text/plain": [
       "(705, 3)"
      ]
     },
     "execution_count": 27,
     "metadata": {},
     "output_type": "execute_result"
    }
   ],
   "source": [
    "X_train.shape"
   ]
  },
  {
   "cell_type": "code",
   "execution_count": 28,
   "id": "6005b47e",
   "metadata": {
    "colab": {
     "base_uri": "https://localhost:8080/"
    },
    "id": "6005b47e",
    "outputId": "d68235b1-7068-464d-aec2-a73ff4d66a05"
   },
   "outputs": [
    {
     "data": {
      "text/plain": [
       "(235, 3)"
      ]
     },
     "execution_count": 28,
     "metadata": {},
     "output_type": "execute_result"
    }
   ],
   "source": [
    "X_test.shape"
   ]
  },
  {
   "cell_type": "code",
   "execution_count": 29,
   "id": "6b48d074",
   "metadata": {
    "colab": {
     "base_uri": "https://localhost:8080/"
    },
    "id": "6b48d074",
    "outputId": "bae321a0-3b8d-4fc8-aa2d-a5ba4e06db43"
   },
   "outputs": [
    {
     "data": {
      "text/plain": [
       "891"
      ]
     },
     "execution_count": 29,
     "metadata": {},
     "output_type": "execute_result"
    }
   ],
   "source": [
    "668+223"
   ]
  },
  {
   "cell_type": "code",
   "execution_count": 30,
   "id": "7a8730ec",
   "metadata": {
    "colab": {
     "base_uri": "https://localhost:8080/"
    },
    "id": "7a8730ec",
    "outputId": "2a198ff7-8759-4ba5-8cfd-9cc1f83f1d42"
   },
   "outputs": [
    {
     "data": {
      "text/plain": [
       "0.7497194163860831"
      ]
     },
     "execution_count": 30,
     "metadata": {},
     "output_type": "execute_result"
    }
   ],
   "source": [
    "668/891"
   ]
  },
  {
   "cell_type": "code",
   "execution_count": null,
   "id": "e690b234",
   "metadata": {
    "id": "e690b234"
   },
   "outputs": [],
   "source": []
  },
  {
   "cell_type": "markdown",
   "id": "onCKXDyI1ZUJ",
   "metadata": {
    "id": "onCKXDyI1ZUJ"
   },
   "source": [
    "-"
   ]
  },
  {
   "cell_type": "markdown",
   "id": "nAX2GByF1X1R",
   "metadata": {
    "id": "nAX2GByF1X1R"
   },
   "source": [
    "# Treinamento do Modelo de Regressão Linear\n",
    "\n",
    "Agora vamos descobrir os parâmetros do modelo (os coeficientes) que melhor relacionam as distâncias percorridas com as calorias gastas.\n",
    "\n",
    "## Modelo de Regressão Linear para Calorias\n",
    "\n",
    "Calorias = a1 × ModeratelyActiveDistance + a2 × LightActiveDistance + a3 × SedentaryActiveDistance + b\n",
    "\n",
    "Onde:\n",
    "- a1, a2, a3 são os coeficientes para cada tipo de distância\n",
    "- b é o intercepto (valor base de calorias gastas mesmo sem movimento)\n",
    "\n",
    "Vamos treinar o modelo para descobrir estes valores."
   ]
  },
  {
   "cell_type": "code",
   "execution_count": 31,
   "id": "0HFjB6a72GwA",
   "metadata": {
    "colab": {
     "base_uri": "https://localhost:8080/",
     "height": 79
    },
    "id": "0HFjB6a72GwA",
    "outputId": "3a46ee1d-7990-4cb7-842e-5e6366d0215d"
   },
   "outputs": [
    {
     "data": {
      "text/html": [
       "<style>#sk-container-id-1 {\n",
       "  /* Definition of color scheme common for light and dark mode */\n",
       "  --sklearn-color-text: #000;\n",
       "  --sklearn-color-text-muted: #666;\n",
       "  --sklearn-color-line: gray;\n",
       "  /* Definition of color scheme for unfitted estimators */\n",
       "  --sklearn-color-unfitted-level-0: #fff5e6;\n",
       "  --sklearn-color-unfitted-level-1: #f6e4d2;\n",
       "  --sklearn-color-unfitted-level-2: #ffe0b3;\n",
       "  --sklearn-color-unfitted-level-3: chocolate;\n",
       "  /* Definition of color scheme for fitted estimators */\n",
       "  --sklearn-color-fitted-level-0: #f0f8ff;\n",
       "  --sklearn-color-fitted-level-1: #d4ebff;\n",
       "  --sklearn-color-fitted-level-2: #b3dbfd;\n",
       "  --sklearn-color-fitted-level-3: cornflowerblue;\n",
       "\n",
       "  /* Specific color for light theme */\n",
       "  --sklearn-color-text-on-default-background: var(--sg-text-color, var(--theme-code-foreground, var(--jp-content-font-color1, black)));\n",
       "  --sklearn-color-background: var(--sg-background-color, var(--theme-background, var(--jp-layout-color0, white)));\n",
       "  --sklearn-color-border-box: var(--sg-text-color, var(--theme-code-foreground, var(--jp-content-font-color1, black)));\n",
       "  --sklearn-color-icon: #696969;\n",
       "\n",
       "  @media (prefers-color-scheme: dark) {\n",
       "    /* Redefinition of color scheme for dark theme */\n",
       "    --sklearn-color-text-on-default-background: var(--sg-text-color, var(--theme-code-foreground, var(--jp-content-font-color1, white)));\n",
       "    --sklearn-color-background: var(--sg-background-color, var(--theme-background, var(--jp-layout-color0, #111)));\n",
       "    --sklearn-color-border-box: var(--sg-text-color, var(--theme-code-foreground, var(--jp-content-font-color1, white)));\n",
       "    --sklearn-color-icon: #878787;\n",
       "  }\n",
       "}\n",
       "\n",
       "#sk-container-id-1 {\n",
       "  color: var(--sklearn-color-text);\n",
       "}\n",
       "\n",
       "#sk-container-id-1 pre {\n",
       "  padding: 0;\n",
       "}\n",
       "\n",
       "#sk-container-id-1 input.sk-hidden--visually {\n",
       "  border: 0;\n",
       "  clip: rect(1px 1px 1px 1px);\n",
       "  clip: rect(1px, 1px, 1px, 1px);\n",
       "  height: 1px;\n",
       "  margin: -1px;\n",
       "  overflow: hidden;\n",
       "  padding: 0;\n",
       "  position: absolute;\n",
       "  width: 1px;\n",
       "}\n",
       "\n",
       "#sk-container-id-1 div.sk-dashed-wrapped {\n",
       "  border: 1px dashed var(--sklearn-color-line);\n",
       "  margin: 0 0.4em 0.5em 0.4em;\n",
       "  box-sizing: border-box;\n",
       "  padding-bottom: 0.4em;\n",
       "  background-color: var(--sklearn-color-background);\n",
       "}\n",
       "\n",
       "#sk-container-id-1 div.sk-container {\n",
       "  /* jupyter's `normalize.less` sets `[hidden] { display: none; }`\n",
       "     but bootstrap.min.css set `[hidden] { display: none !important; }`\n",
       "     so we also need the `!important` here to be able to override the\n",
       "     default hidden behavior on the sphinx rendered scikit-learn.org.\n",
       "     See: https://github.com/scikit-learn/scikit-learn/issues/21755 */\n",
       "  display: inline-block !important;\n",
       "  position: relative;\n",
       "}\n",
       "\n",
       "#sk-container-id-1 div.sk-text-repr-fallback {\n",
       "  display: none;\n",
       "}\n",
       "\n",
       "div.sk-parallel-item,\n",
       "div.sk-serial,\n",
       "div.sk-item {\n",
       "  /* draw centered vertical line to link estimators */\n",
       "  background-image: linear-gradient(var(--sklearn-color-text-on-default-background), var(--sklearn-color-text-on-default-background));\n",
       "  background-size: 2px 100%;\n",
       "  background-repeat: no-repeat;\n",
       "  background-position: center center;\n",
       "}\n",
       "\n",
       "/* Parallel-specific style estimator block */\n",
       "\n",
       "#sk-container-id-1 div.sk-parallel-item::after {\n",
       "  content: \"\";\n",
       "  width: 100%;\n",
       "  border-bottom: 2px solid var(--sklearn-color-text-on-default-background);\n",
       "  flex-grow: 1;\n",
       "}\n",
       "\n",
       "#sk-container-id-1 div.sk-parallel {\n",
       "  display: flex;\n",
       "  align-items: stretch;\n",
       "  justify-content: center;\n",
       "  background-color: var(--sklearn-color-background);\n",
       "  position: relative;\n",
       "}\n",
       "\n",
       "#sk-container-id-1 div.sk-parallel-item {\n",
       "  display: flex;\n",
       "  flex-direction: column;\n",
       "}\n",
       "\n",
       "#sk-container-id-1 div.sk-parallel-item:first-child::after {\n",
       "  align-self: flex-end;\n",
       "  width: 50%;\n",
       "}\n",
       "\n",
       "#sk-container-id-1 div.sk-parallel-item:last-child::after {\n",
       "  align-self: flex-start;\n",
       "  width: 50%;\n",
       "}\n",
       "\n",
       "#sk-container-id-1 div.sk-parallel-item:only-child::after {\n",
       "  width: 0;\n",
       "}\n",
       "\n",
       "/* Serial-specific style estimator block */\n",
       "\n",
       "#sk-container-id-1 div.sk-serial {\n",
       "  display: flex;\n",
       "  flex-direction: column;\n",
       "  align-items: center;\n",
       "  background-color: var(--sklearn-color-background);\n",
       "  padding-right: 1em;\n",
       "  padding-left: 1em;\n",
       "}\n",
       "\n",
       "\n",
       "/* Toggleable style: style used for estimator/Pipeline/ColumnTransformer box that is\n",
       "clickable and can be expanded/collapsed.\n",
       "- Pipeline and ColumnTransformer use this feature and define the default style\n",
       "- Estimators will overwrite some part of the style using the `sk-estimator` class\n",
       "*/\n",
       "\n",
       "/* Pipeline and ColumnTransformer style (default) */\n",
       "\n",
       "#sk-container-id-1 div.sk-toggleable {\n",
       "  /* Default theme specific background. It is overwritten whether we have a\n",
       "  specific estimator or a Pipeline/ColumnTransformer */\n",
       "  background-color: var(--sklearn-color-background);\n",
       "}\n",
       "\n",
       "/* Toggleable label */\n",
       "#sk-container-id-1 label.sk-toggleable__label {\n",
       "  cursor: pointer;\n",
       "  display: flex;\n",
       "  width: 100%;\n",
       "  margin-bottom: 0;\n",
       "  padding: 0.5em;\n",
       "  box-sizing: border-box;\n",
       "  text-align: center;\n",
       "  align-items: start;\n",
       "  justify-content: space-between;\n",
       "  gap: 0.5em;\n",
       "}\n",
       "\n",
       "#sk-container-id-1 label.sk-toggleable__label .caption {\n",
       "  font-size: 0.6rem;\n",
       "  font-weight: lighter;\n",
       "  color: var(--sklearn-color-text-muted);\n",
       "}\n",
       "\n",
       "#sk-container-id-1 label.sk-toggleable__label-arrow:before {\n",
       "  /* Arrow on the left of the label */\n",
       "  content: \"▸\";\n",
       "  float: left;\n",
       "  margin-right: 0.25em;\n",
       "  color: var(--sklearn-color-icon);\n",
       "}\n",
       "\n",
       "#sk-container-id-1 label.sk-toggleable__label-arrow:hover:before {\n",
       "  color: var(--sklearn-color-text);\n",
       "}\n",
       "\n",
       "/* Toggleable content - dropdown */\n",
       "\n",
       "#sk-container-id-1 div.sk-toggleable__content {\n",
       "  max-height: 0;\n",
       "  max-width: 0;\n",
       "  overflow: hidden;\n",
       "  text-align: left;\n",
       "  /* unfitted */\n",
       "  background-color: var(--sklearn-color-unfitted-level-0);\n",
       "}\n",
       "\n",
       "#sk-container-id-1 div.sk-toggleable__content.fitted {\n",
       "  /* fitted */\n",
       "  background-color: var(--sklearn-color-fitted-level-0);\n",
       "}\n",
       "\n",
       "#sk-container-id-1 div.sk-toggleable__content pre {\n",
       "  margin: 0.2em;\n",
       "  border-radius: 0.25em;\n",
       "  color: var(--sklearn-color-text);\n",
       "  /* unfitted */\n",
       "  background-color: var(--sklearn-color-unfitted-level-0);\n",
       "}\n",
       "\n",
       "#sk-container-id-1 div.sk-toggleable__content.fitted pre {\n",
       "  /* unfitted */\n",
       "  background-color: var(--sklearn-color-fitted-level-0);\n",
       "}\n",
       "\n",
       "#sk-container-id-1 input.sk-toggleable__control:checked~div.sk-toggleable__content {\n",
       "  /* Expand drop-down */\n",
       "  max-height: 200px;\n",
       "  max-width: 100%;\n",
       "  overflow: auto;\n",
       "}\n",
       "\n",
       "#sk-container-id-1 input.sk-toggleable__control:checked~label.sk-toggleable__label-arrow:before {\n",
       "  content: \"▾\";\n",
       "}\n",
       "\n",
       "/* Pipeline/ColumnTransformer-specific style */\n",
       "\n",
       "#sk-container-id-1 div.sk-label input.sk-toggleable__control:checked~label.sk-toggleable__label {\n",
       "  color: var(--sklearn-color-text);\n",
       "  background-color: var(--sklearn-color-unfitted-level-2);\n",
       "}\n",
       "\n",
       "#sk-container-id-1 div.sk-label.fitted input.sk-toggleable__control:checked~label.sk-toggleable__label {\n",
       "  background-color: var(--sklearn-color-fitted-level-2);\n",
       "}\n",
       "\n",
       "/* Estimator-specific style */\n",
       "\n",
       "/* Colorize estimator box */\n",
       "#sk-container-id-1 div.sk-estimator input.sk-toggleable__control:checked~label.sk-toggleable__label {\n",
       "  /* unfitted */\n",
       "  background-color: var(--sklearn-color-unfitted-level-2);\n",
       "}\n",
       "\n",
       "#sk-container-id-1 div.sk-estimator.fitted input.sk-toggleable__control:checked~label.sk-toggleable__label {\n",
       "  /* fitted */\n",
       "  background-color: var(--sklearn-color-fitted-level-2);\n",
       "}\n",
       "\n",
       "#sk-container-id-1 div.sk-label label.sk-toggleable__label,\n",
       "#sk-container-id-1 div.sk-label label {\n",
       "  /* The background is the default theme color */\n",
       "  color: var(--sklearn-color-text-on-default-background);\n",
       "}\n",
       "\n",
       "/* On hover, darken the color of the background */\n",
       "#sk-container-id-1 div.sk-label:hover label.sk-toggleable__label {\n",
       "  color: var(--sklearn-color-text);\n",
       "  background-color: var(--sklearn-color-unfitted-level-2);\n",
       "}\n",
       "\n",
       "/* Label box, darken color on hover, fitted */\n",
       "#sk-container-id-1 div.sk-label.fitted:hover label.sk-toggleable__label.fitted {\n",
       "  color: var(--sklearn-color-text);\n",
       "  background-color: var(--sklearn-color-fitted-level-2);\n",
       "}\n",
       "\n",
       "/* Estimator label */\n",
       "\n",
       "#sk-container-id-1 div.sk-label label {\n",
       "  font-family: monospace;\n",
       "  font-weight: bold;\n",
       "  display: inline-block;\n",
       "  line-height: 1.2em;\n",
       "}\n",
       "\n",
       "#sk-container-id-1 div.sk-label-container {\n",
       "  text-align: center;\n",
       "}\n",
       "\n",
       "/* Estimator-specific */\n",
       "#sk-container-id-1 div.sk-estimator {\n",
       "  font-family: monospace;\n",
       "  border: 1px dotted var(--sklearn-color-border-box);\n",
       "  border-radius: 0.25em;\n",
       "  box-sizing: border-box;\n",
       "  margin-bottom: 0.5em;\n",
       "  /* unfitted */\n",
       "  background-color: var(--sklearn-color-unfitted-level-0);\n",
       "}\n",
       "\n",
       "#sk-container-id-1 div.sk-estimator.fitted {\n",
       "  /* fitted */\n",
       "  background-color: var(--sklearn-color-fitted-level-0);\n",
       "}\n",
       "\n",
       "/* on hover */\n",
       "#sk-container-id-1 div.sk-estimator:hover {\n",
       "  /* unfitted */\n",
       "  background-color: var(--sklearn-color-unfitted-level-2);\n",
       "}\n",
       "\n",
       "#sk-container-id-1 div.sk-estimator.fitted:hover {\n",
       "  /* fitted */\n",
       "  background-color: var(--sklearn-color-fitted-level-2);\n",
       "}\n",
       "\n",
       "/* Specification for estimator info (e.g. \"i\" and \"?\") */\n",
       "\n",
       "/* Common style for \"i\" and \"?\" */\n",
       "\n",
       ".sk-estimator-doc-link,\n",
       "a:link.sk-estimator-doc-link,\n",
       "a:visited.sk-estimator-doc-link {\n",
       "  float: right;\n",
       "  font-size: smaller;\n",
       "  line-height: 1em;\n",
       "  font-family: monospace;\n",
       "  background-color: var(--sklearn-color-background);\n",
       "  border-radius: 1em;\n",
       "  height: 1em;\n",
       "  width: 1em;\n",
       "  text-decoration: none !important;\n",
       "  margin-left: 0.5em;\n",
       "  text-align: center;\n",
       "  /* unfitted */\n",
       "  border: var(--sklearn-color-unfitted-level-1) 1pt solid;\n",
       "  color: var(--sklearn-color-unfitted-level-1);\n",
       "}\n",
       "\n",
       ".sk-estimator-doc-link.fitted,\n",
       "a:link.sk-estimator-doc-link.fitted,\n",
       "a:visited.sk-estimator-doc-link.fitted {\n",
       "  /* fitted */\n",
       "  border: var(--sklearn-color-fitted-level-1) 1pt solid;\n",
       "  color: var(--sklearn-color-fitted-level-1);\n",
       "}\n",
       "\n",
       "/* On hover */\n",
       "div.sk-estimator:hover .sk-estimator-doc-link:hover,\n",
       ".sk-estimator-doc-link:hover,\n",
       "div.sk-label-container:hover .sk-estimator-doc-link:hover,\n",
       ".sk-estimator-doc-link:hover {\n",
       "  /* unfitted */\n",
       "  background-color: var(--sklearn-color-unfitted-level-3);\n",
       "  color: var(--sklearn-color-background);\n",
       "  text-decoration: none;\n",
       "}\n",
       "\n",
       "div.sk-estimator.fitted:hover .sk-estimator-doc-link.fitted:hover,\n",
       ".sk-estimator-doc-link.fitted:hover,\n",
       "div.sk-label-container:hover .sk-estimator-doc-link.fitted:hover,\n",
       ".sk-estimator-doc-link.fitted:hover {\n",
       "  /* fitted */\n",
       "  background-color: var(--sklearn-color-fitted-level-3);\n",
       "  color: var(--sklearn-color-background);\n",
       "  text-decoration: none;\n",
       "}\n",
       "\n",
       "/* Span, style for the box shown on hovering the info icon */\n",
       ".sk-estimator-doc-link span {\n",
       "  display: none;\n",
       "  z-index: 9999;\n",
       "  position: relative;\n",
       "  font-weight: normal;\n",
       "  right: .2ex;\n",
       "  padding: .5ex;\n",
       "  margin: .5ex;\n",
       "  width: min-content;\n",
       "  min-width: 20ex;\n",
       "  max-width: 50ex;\n",
       "  color: var(--sklearn-color-text);\n",
       "  box-shadow: 2pt 2pt 4pt #999;\n",
       "  /* unfitted */\n",
       "  background: var(--sklearn-color-unfitted-level-0);\n",
       "  border: .5pt solid var(--sklearn-color-unfitted-level-3);\n",
       "}\n",
       "\n",
       ".sk-estimator-doc-link.fitted span {\n",
       "  /* fitted */\n",
       "  background: var(--sklearn-color-fitted-level-0);\n",
       "  border: var(--sklearn-color-fitted-level-3);\n",
       "}\n",
       "\n",
       ".sk-estimator-doc-link:hover span {\n",
       "  display: block;\n",
       "}\n",
       "\n",
       "/* \"?\"-specific style due to the `<a>` HTML tag */\n",
       "\n",
       "#sk-container-id-1 a.estimator_doc_link {\n",
       "  float: right;\n",
       "  font-size: 1rem;\n",
       "  line-height: 1em;\n",
       "  font-family: monospace;\n",
       "  background-color: var(--sklearn-color-background);\n",
       "  border-radius: 1rem;\n",
       "  height: 1rem;\n",
       "  width: 1rem;\n",
       "  text-decoration: none;\n",
       "  /* unfitted */\n",
       "  color: var(--sklearn-color-unfitted-level-1);\n",
       "  border: var(--sklearn-color-unfitted-level-1) 1pt solid;\n",
       "}\n",
       "\n",
       "#sk-container-id-1 a.estimator_doc_link.fitted {\n",
       "  /* fitted */\n",
       "  border: var(--sklearn-color-fitted-level-1) 1pt solid;\n",
       "  color: var(--sklearn-color-fitted-level-1);\n",
       "}\n",
       "\n",
       "/* On hover */\n",
       "#sk-container-id-1 a.estimator_doc_link:hover {\n",
       "  /* unfitted */\n",
       "  background-color: var(--sklearn-color-unfitted-level-3);\n",
       "  color: var(--sklearn-color-background);\n",
       "  text-decoration: none;\n",
       "}\n",
       "\n",
       "#sk-container-id-1 a.estimator_doc_link.fitted:hover {\n",
       "  /* fitted */\n",
       "  background-color: var(--sklearn-color-fitted-level-3);\n",
       "}\n",
       "</style><div id=\"sk-container-id-1\" class=\"sk-top-container\"><div class=\"sk-text-repr-fallback\"><pre>LinearRegression()</pre><b>In a Jupyter environment, please rerun this cell to show the HTML representation or trust the notebook. <br />On GitHub, the HTML representation is unable to render, please try loading this page with nbviewer.org.</b></div><div class=\"sk-container\" hidden><div class=\"sk-item\"><div class=\"sk-estimator fitted sk-toggleable\"><input class=\"sk-toggleable__control sk-hidden--visually\" id=\"sk-estimator-id-1\" type=\"checkbox\" checked><label for=\"sk-estimator-id-1\" class=\"sk-toggleable__label fitted sk-toggleable__label-arrow\"><div><div>LinearRegression</div></div><div><a class=\"sk-estimator-doc-link fitted\" rel=\"noreferrer\" target=\"_blank\" href=\"https://scikit-learn.org/1.6/modules/generated/sklearn.linear_model.LinearRegression.html\">?<span>Documentation for LinearRegression</span></a><span class=\"sk-estimator-doc-link fitted\">i<span>Fitted</span></span></div></label><div class=\"sk-toggleable__content fitted\"><pre>LinearRegression()</pre></div> </div></div></div></div>"
      ],
      "text/plain": [
       "LinearRegression()"
      ]
     },
     "execution_count": 31,
     "metadata": {},
     "output_type": "execute_result"
    }
   ],
   "source": [
    "modelo.fit(X_train, y_train)"
   ]
  },
  {
   "cell_type": "markdown",
   "id": "CPbCsPj13FuW",
   "metadata": {
    "id": "CPbCsPj13FuW"
   },
   "source": [
    "# Coeficientes do modelo\n",
    "\n",
    "Estes valores mostram a influência de cada tipo de distância no gasto calórico:\n",
    "- Quanto maior o valor, mais essa variável influencia as calorias gastas"
   ]
  },
  {
   "cell_type": "code",
   "execution_count": 32,
   "id": "9V4PDVzt2SlC",
   "metadata": {
    "colab": {
     "base_uri": "https://localhost:8080/"
    },
    "id": "9V4PDVzt2SlC",
    "outputId": "44d39a2c-366b-42d7-a21a-5c473e328681"
   },
   "outputs": [
    {
     "name": "stdout",
     "output_type": "stream",
     "text": [
      "[ 106.86225044  156.01913195 1204.18189744]\n"
     ]
    }
   ],
   "source": [
    "print(modelo.coef_)"
   ]
  },
  {
   "cell_type": "markdown",
   "id": "KUNK52SN3ID-",
   "metadata": {
    "id": "KUNK52SN3ID-"
   },
   "source": [
    "# Intercepto do modelo\n",
    "\n",
    "Este é o valor base de calorias que seria gasto mesmo se todas as distâncias fossem zero (metabolismo basal estimado pelo modelo)"
   ]
  },
  {
   "cell_type": "code",
   "execution_count": 33,
   "id": "HgnGh0_b3Dj3",
   "metadata": {
    "colab": {
     "base_uri": "https://localhost:8080/"
    },
    "id": "HgnGh0_b3Dj3",
    "outputId": "39ed5c7c-6c46-4ee3-db90-52e7f4c1ce65"
   },
   "outputs": [
    {
     "name": "stdout",
     "output_type": "stream",
     "text": [
      "1720.8319969357067\n"
     ]
    }
   ],
   "source": [
    "print(modelo.intercept_)"
   ]
  },
  {
   "cell_type": "markdown",
   "id": "a_sF86qB3J6i",
   "metadata": {
    "id": "a_sF86qB3J6i"
   },
   "source": [
    "# Equação completa do modelo de regressão\n",
    "print(f\"Calorias = {modelo.coef_[0]:.2f} × ModeratelyActiveDistance + {modelo.coef_[1]:.2f} × LightActiveDistance + {modelo.coef_[2]:.2f} × SedentaryActiveDistance + {modelo.intercept_:.2f}\")"
   ]
  },
  {
   "cell_type": "markdown",
   "id": "vMahweO23cjt",
   "metadata": {
    "id": "vMahweO23cjt"
   },
   "source": [
    "# Y_pred\n",
    "\n",
    "ele vai ser predição com base na base de teste"
   ]
  },
  {
   "cell_type": "code",
   "execution_count": 34,
   "id": "k-qC7Chj3EyR",
   "metadata": {
    "colab": {
     "base_uri": "https://localhost:8080/"
    },
    "id": "k-qC7Chj3EyR",
    "outputId": "5604dd84-b3a9-4da9-dbef-7aabcd627f1e"
   },
   "outputs": [
    {
     "name": "stdout",
     "output_type": "stream",
     "text": [
      "[2633.3514814  2228.8985445  1737.99410136 2829.01658112 2858.2113418\n",
      " 1779.64903817 1988.26577582 2486.63850934 2031.31007101 2628.86337168\n",
      " 2477.26796601 2597.61661378 1901.81418479 2074.99542349 2010.64284674\n",
      " 2618.62590788 1720.83199694 2138.96328098 2269.2283789  2546.68538106\n",
      " 2396.22349345 2432.72799191 2224.77379612 2633.92857492 2442.36691716\n",
      " 2272.50137323 2711.44346185 2126.48172513 2007.46748639 2377.6725484\n",
      " 2772.46431451 2308.51110963 1720.83199694 1937.69858812 1727.07276207\n",
      " 2273.13971809 3032.95287284 1720.83199694 2636.36480853 2193.56996229\n",
      " 2187.62834873 2310.94745799 2413.55695173 2589.73025737 2323.64276192\n",
      " 1720.83199694 2305.72034424 2068.75466416 2351.93988025 2489.0657519\n",
      " 2056.27314551 1720.83199694 2482.88613145 2554.6549381  2358.95027042\n",
      " 2692.87383661 2588.61887013 2073.43523366 2416.46330388 2600.48028409\n",
      " 2121.33080709 2665.9445291  2513.40917535 2335.61138991 2282.56477095\n",
      " 1968.90242195 2719.76024769 2335.54738575 2342.01095104 1968.83827489\n",
      " 2535.25183299 2187.69247719 1865.41676038 2156.40315538 2220.71296478\n",
      " 2761.73595859 1792.60079894 2247.72775708 2076.7479116  1720.83199694\n",
      " 2715.68114516 2147.88472002 2803.13457437 2400.19595879 2392.54764966\n",
      " 2393.23167778 1801.96194257 2254.20365802 2264.8685245  2414.09120191\n",
      " 2625.32987233 2140.08373367 2216.53310981 2327.74643659 2376.11232137\n",
      " 2026.62950151 2238.8155046  2211.18084984 2268.07439214 1842.52691539\n",
      " 2534.37243309 2529.79871109 2039.11102017 2681.24719773 2656.3267987\n",
      " 2457.24226701 2897.2162459  2577.50507835 2869.36751687 2715.87043269\n",
      " 1986.94071219 2599.77505158 2271.57952826 2133.87646962 1954.86069486\n",
      " 2721.81200587 2677.99861106 2360.42468329 2746.26219607 2197.45969655\n",
      " 2425.50409908 2294.98241293 3180.2516745  1720.83199694 2134.28271149\n",
      " 2327.12657732 2697.51179866 2171.38523162 2012.58777443 2530.57130069\n",
      " 1734.87371937 2302.78336209 2434.52020948 1852.42231387 2051.93448993\n",
      " 2212.4630951  2260.23063525 2126.48172513 2528.64767513 2120.05772979\n",
      " 2268.4591486  2099.95849799 2675.94685288 2466.56063706 2728.62974715\n",
      " 2406.87649245 2711.25387373 1720.83199694 2641.19486061 2494.08835722\n",
      " 1901.81418479 2150.07690808 1996.98585751 2563.33532435 2493.40424837\n",
      " 2439.26805692 2275.12734781 1720.83199694 1720.83199694 2632.66757917\n",
      " 2936.7542974  1851.88806368 2436.04066667 2814.31147733 2448.05198286\n",
      " 1720.83199694 2337.10757558 2200.41803503 1881.53169838 2409.62425301\n",
      " 2138.96328098 2606.1015443  3025.83566919 2568.43090899 2913.9934517\n",
      " 1720.83199694 2667.26937229 2654.94686167 2549.29357867 2712.89987769\n",
      " 2124.9215353  2089.03713197 2066.42498002 2581.58727239 2227.89417578\n",
      " 2064.07409467 1745.79505749 2649.50894903 2120.60424003 2616.74512725\n",
      " 1722.39218822 2642.34934775 2516.01629462 2373.61171707 2506.56987588\n",
      " 2231.31358328 3099.7205184  2551.17423978 2195.79256893 1991.42586953\n",
      " 2798.17605553 2585.177982   2855.154876   2320.30863418 2152.70571939\n",
      " 2267.49733582 2851.53100364 2580.4974497  1891.74769855 1903.37437462\n",
      " 2215.8613014  2084.35656248 2435.7198565  2003.90738818 2190.000575\n",
      " 1720.83199694 2486.52251248 2607.06323756 2755.17444856 2707.57816379\n",
      " 1720.83199694 2008.91168095 2775.37082497 2538.649949   1907.61524417\n",
      " 2074.99542349 2131.67510137 1720.83199694 2527.77135511 2923.73951023\n",
      " 2328.4301821  2330.56742507 2440.93493115 2755.79443213 2223.04250921]\n"
     ]
    }
   ],
   "source": [
    "y_pred = modelo.predict(X_test)\n",
    "print(y_pred)"
   ]
  },
  {
   "cell_type": "markdown",
   "id": "eo7oWXZl34tG",
   "metadata": {
    "id": "eo7oWXZl34tG"
   },
   "source": []
  },
  {
   "cell_type": "code",
   "execution_count": null,
   "id": "1pahRRZy3m7z",
   "metadata": {
    "id": "1pahRRZy3m7z"
   },
   "outputs": [],
   "source": []
  },
  {
   "cell_type": "code",
   "execution_count": 44,
   "id": "4aa4b5a9",
   "metadata": {},
   "outputs": [
    {
     "name": "stdout",
     "output_type": "stream",
     "text": [
      "RMSE com validação cruzada: 691.82\n",
      "RMSE do modelo baseline: 700.34\n",
      "\n",
      "Erro Quadrático Médio (MSE): 407833.47\n",
      "Raiz do Erro Quadrático Médio (RMSE): 638.62\n",
      "Coeficiente de Determinação (R²): 0.1678\n",
      "Melhoria percentual sobre o baseline: 8.81%\n",
      "\n",
      "Maiores erros percentuais:\n",
      "     Real     Previsto         Erro     Erro_Abs  Erro_Percentual\n",
      "30      0  1720.831997 -1720.831997  1720.831997              inf\n",
      "710   928  2076.747912 -1148.747912  1148.747912       123.787490\n",
      "215  1364  2580.497450 -1216.497450  1216.497450        89.186030\n",
      "331  1377  2486.522512 -1109.522512  1109.522512        80.575346\n",
      "31   1432  2549.293579 -1117.293579  1117.293579        78.023295\n"
     ]
    }
   ],
   "source": [
    "import numpy as np\n",
    "from sklearn.metrics import mean_squared_error, r2_score\n",
    "from sklearn.model_selection import cross_val_score\n",
    "\n",
    "# Previsões no conjunto de teste\n",
    "y_pred = modelo.predict(X_test)\n",
    "\n",
    "# Validação cruzada\n",
    "cv_scores = cross_val_score(modelo, X, y, cv=5, scoring='neg_mean_squared_error')\n",
    "rmse_cv = np.sqrt(-cv_scores.mean())\n",
    "print(f\"RMSE com validação cruzada: {rmse_cv:.2f}\")\n",
    "\n",
    "# Modelo baseline (média)\n",
    "y_pred_baseline = np.full_like(y_test, y_train.mean())\n",
    "mse_baseline = mean_squared_error(y_test, y_pred_baseline)\n",
    "rmse_baseline = np.sqrt(mse_baseline)\n",
    "print(f\"RMSE do modelo baseline: {rmse_baseline:.2f}\")\n",
    "\n",
    "# Calcular métricas de erro do modelo principal\n",
    "mse = mean_squared_error(y_test, y_pred)\n",
    "rmse = np.sqrt(mse)  # Calculando RMSE manualmente\n",
    "r2 = r2_score(y_test, y_pred)\n",
    "\n",
    "print(f\"\\nErro Quadrático Médio (MSE): {mse:.2f}\")\n",
    "print(f\"Raiz do Erro Quadrático Médio (RMSE): {rmse:.2f}\")\n",
    "print(f\"Coeficiente de Determinação (R²): {r2:.4f}\")\n",
    "\n",
    "# Calcular melhoria percentual\n",
    "if rmse_baseline > 0:\n",
    "    melhoria = ((rmse_baseline - rmse) / rmse_baseline * 100)\n",
    "    print(f\"Melhoria percentual sobre o baseline: {melhoria:.2f}%\")\n",
    "\n",
    "# Criar um dataframe para análise de erros\n",
    "error_df = pd.DataFrame({\n",
    "    'Real': y_test, \n",
    "    'Previsto': y_pred, \n",
    "    'Erro': y_test - y_pred,\n",
    "    'Erro_Abs': np.abs(y_test - y_pred),\n",
    "    'Erro_Percentual': np.abs((y_test - y_pred) / y_test) * 100\n",
    "})\n",
    "\n",
    "# Identificar onde o modelo erra mais\n",
    "print(\"\\nMaiores erros percentuais:\")\n",
    "print(error_df.sort_values('Erro_Percentual', ascending=False).head())"
   ]
  },
  {
   "cell_type": "code",
   "execution_count": 45,
   "id": "bb30936a",
   "metadata": {},
   "outputs": [
    {
     "data": {
      "image/png": "[encoded data removed]",
      "text/plain": [
       "<Figure size 1000x600 with 1 Axes>"
      ]
     },
     "metadata": {},
     "output_type": "display_data"
    },
    {
     "data": {
      "image/png": "[encoded data removed]",
      "text/plain": [
       "<Figure size 1000x600 with 1 Axes>"
      ]
     },
     "metadata": {},
     "output_type": "display_data"
    }
   ],
   "source": [
    "# Visualização dos resultados\n",
    "import matplotlib.pyplot as plt\n",
    "import seaborn as sns\n",
    "\n",
    "# Criar um dataframe com valores reais e previstos\n",
    "results_df = pd.DataFrame({\n",
    "    'Real': y_test,\n",
    "    'Previsto': y_pred\n",
    "})\n",
    "\n",
    "# Gráfico de dispersão\n",
    "plt.figure(figsize=(10, 6))\n",
    "plt.scatter(y_test, y_pred, alpha=0.5)\n",
    "plt.plot([y_test.min(), y_test.max()], [y_test.min(), y_test.max()], 'r--')\n",
    "plt.xlabel('Calorias Reais')\n",
    "plt.ylabel('Calorias Previstas')\n",
    "plt.title('Comparação entre Valores Reais e Previstos')\n",
    "plt.grid(True)\n",
    "plt.show()\n",
    "\n",
    "# Histograma dos erros\n",
    "plt.figure(figsize=(10, 6))\n",
    "sns.histplot(y_test - y_pred, kde=True)\n",
    "plt.xlabel('Erro de Previsão (Calorias)')\n",
    "plt.ylabel('Frequência')\n",
    "plt.title('Distribuição dos Erros de Previsão')\n",
    "plt.grid(True)\n",
    "plt.show()"
   ]
  },
  {
   "cell_type": "markdown",
   "id": "d49bf9c7",
   "metadata": {},
   "source": [
    "# Conclusões e Próximos Passos\n",
    "\n",
    "## O que aprendemos\n",
    "1. Identificamos o impacto de diferentes níveis de atividade (moderada, leve, sedentária) no gasto calórico\n",
    "2. Construímos um modelo de regressão linear para prever calorias gastas\n",
    "3. Avaliamos a precisão do modelo usando métricas estatísticas\n",
    "\n",
    "## Melhorias possíveis\n",
    "1. Incluir mais variáveis como VeryActiveDistance, minutos de atividade, etc.\n",
    "2. Considerar fatores temporais (dia da semana, horário)\n",
    "3. Normalizar as variáveis para melhorar a performance do modelo\n",
    "4. Testar outros algoritmos além da regressão linear\n",
    "5. Tratar outliers que possam estar afetando a qualidade do modelo\n",
    "\n",
    "## Aplicação prática\n",
    "Este modelo pode ser usado para estimar o gasto calórico baseado nos padrões de atividade, \n",
    "ajudando usuários a entender melhor a relação entre movimento e gasto energético."
   ]
  },
  {
   "cell_type": "markdown",
   "id": "5ZT9Gcbk30hL",
   "metadata": {
    "id": "5ZT9Gcbk30hL"
   },
   "source": [
    "Prox aula\n",
    "\n",
    "- Erro\n",
    "- Nulos\n",
    "\n",
    "Entrando em mais detalhes\n",
    "\n",
    "Matriz Confusão\n",
    "RMSE"
   ]
  },
  {
   "cell_type": "code",
   "execution_count": 46,
   "id": "lW87DTJy34D1",
   "metadata": {
    "colab": {
     "base_uri": "https://localhost:8080/"
    },
    "id": "lW87DTJy34D1",
    "outputId": "89a36994-40a7-4fba-a312-55a3f872230d"
   },
   "outputs": [
    {
     "name": "stdout",
     "output_type": "stream",
     "text": [
      "Coeficientes:\n",
      "ModeratelyActiveDistance: 106.8623\n",
      "LightActiveDistance: 156.0191\n",
      "SedentaryActiveDistance: 1204.1819\n",
      "Intercepto: 1720.8320\n",
      "\n",
      "Raiz do Erro Quadrático Médio (RMSE): 638.62\n",
      "Coeficiente de Determinação (R²): 0.1678\n"
     ]
    }
   ],
   "source": [
    "# Código completo do modelo de regressão linear para dados do FitBit\n",
    "import pandas as pd\n",
    "import numpy as np\n",
    "import matplotlib.pyplot as plt\n",
    "import seaborn as sns\n",
    "from sklearn.linear_model import LinearRegression\n",
    "from sklearn.model_selection import train_test_split\n",
    "from sklearn.metrics import mean_squared_error, r2_score\n",
    "\n",
    "# Carregar dados e selecionar colunas\n",
    "df = pd.read_csv('dailyActivity_merged.csv')\n",
    "df = df[[\"ModeratelyActiveDistance\", \"LightActiveDistance\", \"SedentaryActiveDistance\", \"Calories\"]]\n",
    "\n",
    "# Definir features e target\n",
    "features = ['ModeratelyActiveDistance', 'LightActiveDistance', 'SedentaryActiveDistance']\n",
    "X = df[features]\n",
    "y = df['Calories']\n",
    "\n",
    "# Dividir em treino e teste\n",
    "X_train, X_test, y_train, y_test = train_test_split(X, y, test_size=0.25, random_state=42)\n",
    "\n",
    "# Treinar modelo\n",
    "modelo = LinearRegression()\n",
    "modelo.fit(X_train, y_train)\n",
    "\n",
    "# Imprimir coeficientes\n",
    "print(\"Coeficientes:\")\n",
    "for feature, coef in zip(features, modelo.coef_):\n",
    "    print(f\"{feature}: {coef:.4f}\")\n",
    "print(f\"Intercepto: {modelo.intercept_:.4f}\")\n",
    "\n",
    "# Fazer previsões e avaliar\n",
    "y_pred = modelo.predict(X_test)\n",
    "mse = mean_squared_error(y_test, y_pred)\n",
    "rmse = np.sqrt(mse)  # Calculando RMSE manualmente\n",
    "r2 = r2_score(y_test, y_pred)\n",
    "print(f\"\\nRaiz do Erro Quadrático Médio (RMSE): {rmse:.2f}\")\n",
    "print(f\"Coeficiente de Determinação (R²): {r2:.4f}\")"
   ]
  },
  {
   "cell_type": "code",
   "execution_count": null,
   "id": "vvgHIjSw4WdR",
   "metadata": {
    "id": "vvgHIjSw4WdR"
   },
   "outputs": [],
   "source": []
  }
 ],
 "metadata": {
  "colab": {
   "provenance": []
  },
  "kernelspec": {
   "display_name": "base",
   "language": "python",
   "name": "python3"
  },
  "language_info": {
   "codemirror_mode": {
    "name": "ipython",
    "version": 3
   },
   "file_extension": ".py",
   "mimetype": "text/x-python",
   "name": "python",
   "nbconvert_exporter": "python",
   "pygments_lexer": "ipython3",
   "version": "3.13.5"
  }
 },
 "nbformat": 4,
 "nbformat_minor": 5
}
